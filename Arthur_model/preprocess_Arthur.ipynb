{
 "cells": [
  {
   "cell_type": "code",
   "execution_count": 120,
   "id": "c7bd9e6a-3810-47df-b91b-3898116e0ade",
   "metadata": {},
   "outputs": [],
   "source": [
    "import pandas as pd\n",
    "import xgboost as xgb\n",
    "from sklearn.model_selection import train_test_split\n",
    "import numpy as np\n",
    "import requests\n",
    "import os"
   ]
  },
  {
   "cell_type": "code",
   "execution_count": 122,
   "id": "a87fd7ac-9e82-46a7-b31b-afb32368f59b",
   "metadata": {},
   "outputs": [],
   "source": [
    "os. chdir('C:\\\\Users\\\\32493\\\\Google Drive\\\\ku leuven\\\\data analysis\\\\MDA\\\\CSV FILES')"
   ]
  },
  {
   "cell_type": "code",
   "execution_count": 150,
   "id": "dc571d2e-1e0f-44ad-bc07-64fff821e05d",
   "metadata": {},
   "outputs": [
    {
     "name": "stdout",
     "output_type": "stream",
     "text": [
      "       Unnamed: 0  projectID  agricultural sciences  \\\n",
      "15331       15331  190197288                    0.0   \n",
      "15332       15332  190197515                    0.0   \n",
      "15333       15333  190198093                    0.0   \n",
      "15334       15334  190198268                    0.0   \n",
      "15335       15335  190198323                    0.0   \n",
      "15336       15336  190198819                    0.0   \n",
      "15337       15337  190199097                    0.0   \n",
      "15338       15338  190199127                    0.0   \n",
      "15339       15339  190199469                    0.0   \n",
      "15340       15340  190199874                    0.0   \n",
      "\n",
      "       engineering and technology  humanities  medical and health sciences  \\\n",
      "15331                         3.0         0.0                          0.0   \n",
      "15332                         0.0         0.0                          2.0   \n",
      "15333                         0.0         0.0                          0.0   \n",
      "15334                         0.0         0.0                          2.0   \n",
      "15335                         0.0         0.0                          0.0   \n",
      "15336                         4.0         0.0                          0.0   \n",
      "15337                         1.0         0.0                          0.0   \n",
      "15338                         0.0         0.0                          0.0   \n",
      "15339                         1.0         0.0                          1.0   \n",
      "15340                         0.0         0.0                          0.0   \n",
      "\n",
      "       natural sciences  social sciences   startDate     endDate  ...  \\\n",
      "15331               0.0              0.0  2023-04-01  2025-03-31  ...   \n",
      "15332               0.0              0.0  2023-03-01  2026-08-31  ...   \n",
      "15333               2.0              0.0  2023-09-01  2025-08-31  ...   \n",
      "15334               0.0              0.0  2023-03-01  2025-02-28  ...   \n",
      "15335               2.0              0.0  2022-05-01  2024-04-30  ...   \n",
      "15336               0.0              0.0  2022-05-01  2024-04-30  ...   \n",
      "15337               1.0              0.0  2022-08-01  2024-07-31  ...   \n",
      "15338               0.0              1.0  2023-01-01  2024-12-31  ...   \n",
      "15339               0.0              0.0  2023-04-01  2025-03-31  ...   \n",
      "15340               3.0              0.0  2022-02-01  2025-01-31  ...   \n",
      "\n",
      "       duration  month country         role  activityType                city  \\\n",
      "15331       730      4      DK  coordinator           PRC          Copenhagen   \n",
      "15332      1279      3      NL  coordinator           PRC            Nijmegen   \n",
      "15333       730      9      FR  coordinator           PRC              Pantin   \n",
      "15334       730      3      BE  coordinator           PRC  Mont-Saint-Guibert   \n",
      "15335       730      5      ES  coordinator           PRC             Paterna   \n",
      "15336       730      5      FI  coordinator           PRC               Vaasa   \n",
      "15337       730      8      ES  coordinator           PRC               Elche   \n",
      "15338       730      1      DK  coordinator           PRC            Nordhavn   \n",
      "15339       730      4      EE  coordinator           PRC             Tallinn   \n",
      "15340      1095      2      FR  coordinator           PRC       Bry-Sur-Marne   \n",
      "\n",
      "      contributors proportion_cost   mask    logCost  \n",
      "15331            1        0.700000  False  21.306346  \n",
      "15332            1        0.172819  False  23.786162  \n",
      "15333            1        0.670350  False  21.830510  \n",
      "15334            1        0.558904  False  22.092247  \n",
      "15335            1        0.700000  False  21.302570  \n",
      "15336            1        0.700000  False  21.710671  \n",
      "15337            1        0.699999  False  20.813874  \n",
      "15338            2        0.700000  False  21.765239  \n",
      "15339            1        0.700000  False  21.710828  \n",
      "15340            1        0.700000  False  21.408053  \n",
      "\n",
      "[10 rows x 23 columns]\n",
      "<class 'pandas.core.frame.DataFrame'>\n",
      "RangeIndex: 15341 entries, 0 to 15340\n",
      "Data columns (total 23 columns):\n",
      " #   Column                       Non-Null Count  Dtype  \n",
      "---  ------                       --------------  -----  \n",
      " 0   Unnamed: 0                   15341 non-null  int64  \n",
      " 1   projectID                    15341 non-null  int64  \n",
      " 2   agricultural sciences        13542 non-null  float64\n",
      " 3   engineering and technology   13542 non-null  float64\n",
      " 4   humanities                   13542 non-null  float64\n",
      " 5   medical and health sciences  13542 non-null  float64\n",
      " 6   natural sciences             13542 non-null  float64\n",
      " 7   social sciences              13542 non-null  float64\n",
      " 8   startDate                    15341 non-null  object \n",
      " 9   endDate                      15341 non-null  object \n",
      " 10  totalCost                    15341 non-null  float64\n",
      " 11  ecMaxContribution            15341 non-null  float64\n",
      " 12  fundingScheme                15340 non-null  object \n",
      " 13  duration                     15341 non-null  int64  \n",
      " 14  month                        15341 non-null  int64  \n",
      " 15  country                      15341 non-null  object \n",
      " 16  role                         15341 non-null  object \n",
      " 17  activityType                 15340 non-null  object \n",
      " 18  city                         15341 non-null  object \n",
      " 19  contributors                 15341 non-null  int64  \n",
      " 20  proportion_cost              15341 non-null  float64\n",
      " 21  mask                         15341 non-null  bool   \n",
      " 22  logCost                      15341 non-null  float64\n",
      "dtypes: bool(1), float64(10), int64(5), object(7)\n",
      "memory usage: 2.6+ MB\n",
      "None\n"
     ]
    }
   ],
   "source": [
    "url = 'https://raw.githubusercontent.com/Arthur-Vansimpsen/MDA/refs/heads/main/dataset3_fielddummies.csv?token=GHSAT0AAAAAADBGGFA3GXT5OUKOR7D3BIQM2BK7SOA'\n",
    "Dataset = pd.read_csv(url)\n",
    "print(Dataset.tail(n=10))\n",
    "print(Dataset.info())"
   ]
  },
  {
   "cell_type": "markdown",
   "id": "47c56a83-e95a-476d-8f63-b6944260bc31",
   "metadata": {},
   "source": [
    "Set original missing values in proportion_cost again to Nan\n"
   ]
  },
  {
   "cell_type": "code",
   "execution_count": 153,
   "id": "f462360f-f356-44a4-90d6-6e9c74d843e4",
   "metadata": {},
   "outputs": [
    {
     "data": {
      "text/plain": [
       "Unnamed: 0                        0\n",
       "projectID                         0\n",
       "agricultural sciences          1799\n",
       "engineering and technology     1799\n",
       "humanities                     1799\n",
       "medical and health sciences    1799\n",
       "natural sciences               1799\n",
       "social sciences                1799\n",
       "startDate                         0\n",
       "endDate                           0\n",
       "totalCost                         0\n",
       "ecMaxContribution                 0\n",
       "fundingScheme                     1\n",
       "duration                          0\n",
       "month                             0\n",
       "country                           0\n",
       "role                              0\n",
       "activityType                      1\n",
       "city                              0\n",
       "contributors                      0\n",
       "proportion_cost                6564\n",
       "mask                              0\n",
       "logCost                           0\n",
       "dtype: int64"
      ]
     },
     "execution_count": 153,
     "metadata": {},
     "output_type": "execute_result"
    }
   ],
   "source": [
    "Dataset.loc[Dataset['mask'] == True, 'proportion_cost'] =  np.nan\n",
    "Dataset.isna().sum()"
   ]
  },
  {
   "cell_type": "code",
   "execution_count": 155,
   "id": "14790224-952c-4c7b-a1e6-885a416cabc9",
   "metadata": {},
   "outputs": [
    {
     "name": "stdout",
     "output_type": "stream",
     "text": [
      "\n",
      "Unique values in fundingScheme:\n",
      "['HORIZON-ERC' 'HORIZON-AG' 'ERC' 'HORIZON-CSA' 'HORIZON-RIA'\n",
      " 'HORIZON-EIC' 'EURATOM-COFUND' 'MSCA-PF' 'CSA' 'HORIZON-COFUND'\n",
      " 'HORIZON-TMA-MSCA-PF-EF' 'HORIZON-AG-LS' 'HORIZON-AG-UN' 'HORIZON-IA'\n",
      " 'HORIZON-ERC-POC' 'EIC' 'HORIZON-TMA-MSCA-PF-GF' 'EURATOM-CSA'\n",
      " 'EURATOM-RIA' 'ERC-POC' 'EURATOM-IA' 'HORIZON-TMA-MSCA-DN-ID'\n",
      " 'HORIZON-TMA-MSCA-DN' 'HORIZON-ERC-SYG' 'ERC-SYG'\n",
      " 'HORIZON-TMA-MSCA-DN-JD' 'RIA' 'HORIZON-TMA-MSCA-SE'\n",
      " 'HORIZON-TMA-MSCA-Cofund-P' 'HORIZON-TMA-MSCA-Cofund-D' 'IA'\n",
      " 'HORIZON-PCP' 'HORIZON-JU-RIA' 'HORIZON-JU-IA' 'HORIZON-JU-CSA'\n",
      " 'HORIZON-EIT-KIC' nan 'HORIZON-EIC-ACC-BF' 'HORIZON-EIC-ACC' 'EIC-ACC']\n",
      "\n",
      "Unique values in country:\n",
      "['ES' 'PL' 'DE' 'FR' 'FI' 'IL' 'NL' 'NO' 'IT' 'SE' 'PT' 'TR' 'CZ' 'AT'\n",
      " 'DK' 'BE' 'IE' 'EL' 'IS' 'LU' 'SI' 'CH' 'RO' 'HU' 'EE' 'CY' 'UK' 'AL'\n",
      " 'RS' 'ME' 'SK' 'LT' 'BA' 'FO' 'MD' 'MT' 'BG' 'HR' 'LV' 'UA' 'TN' 'GE'\n",
      " 'ZA' 'AM' 'KE' 'GH' 'NG' 'MK' 'AU']\n",
      "\n",
      "Unique values in activityType:\n",
      "['REC' 'HES' 'OTH' 'PRC' 'PUB' nan]\n",
      "\n",
      "Unique values in social sciences:\n",
      "[ 0.  1. nan  2.  3.  5.  4.]\n"
     ]
    }
   ],
   "source": [
    "for col in ['fundingScheme', 'country', 'activityType', 'social sciences']:\n",
    "    print(f\"\\nUnique values in {col}:\")\n",
    "    print(Dataset[col].unique())"
   ]
  },
  {
   "cell_type": "markdown",
   "id": "99c2baa2-c737-43e1-a14d-a0589c99f484",
   "metadata": {},
   "source": [
    "Drop the missing values in activitytype and fundingscheme (only 2)."
   ]
  },
  {
   "cell_type": "code",
   "execution_count": 158,
   "id": "945b71f9-5fcd-4319-bdd8-f09c73e1fdf8",
   "metadata": {},
   "outputs": [
    {
     "name": "stdout",
     "output_type": "stream",
     "text": [
      "       agricultural sciences  engineering and technology  humanities  \\\n",
      "0                        0.0                         0.0         0.0   \n",
      "1                        0.0                         0.0         2.0   \n",
      "2                        1.0                         0.0         0.0   \n",
      "3                        0.0                         0.0         0.0   \n",
      "4                        0.0                         0.0         0.0   \n",
      "...                      ...                         ...         ...   \n",
      "15336                    0.0                         4.0         0.0   \n",
      "15337                    0.0                         1.0         0.0   \n",
      "15338                    0.0                         0.0         0.0   \n",
      "15339                    0.0                         1.0         0.0   \n",
      "15340                    0.0                         0.0         0.0   \n",
      "\n",
      "       medical and health sciences  natural sciences  social sciences  \\\n",
      "0                              0.0               2.0              0.0   \n",
      "1                              1.0               2.0              0.0   \n",
      "2                              0.0               2.0              0.0   \n",
      "3                              0.0               2.0              1.0   \n",
      "4                              0.0               1.0              0.0   \n",
      "...                            ...               ...              ...   \n",
      "15336                          0.0               0.0              0.0   \n",
      "15337                          0.0               1.0              0.0   \n",
      "15338                          0.0               0.0              1.0   \n",
      "15339                          1.0               0.0              0.0   \n",
      "15340                          0.0               3.0              0.0   \n",
      "\n",
      "       ecMaxContribution       fundingScheme  duration  month country  \\\n",
      "0              1496205.0         HORIZON-ERC      1825      2      ES   \n",
      "1              1499150.0         HORIZON-ERC      1826      9      ES   \n",
      "2              1482050.0         HORIZON-ERC      1825      1      PL   \n",
      "3              1495000.0          HORIZON-AG      1825      4      DE   \n",
      "4              1458688.0         HORIZON-ERC      1826      3      DE   \n",
      "...                  ...                 ...       ...    ...     ...   \n",
      "15336          2402487.0          HORIZON-AG       730      5      FI   \n",
      "15337          1290322.0  HORIZON-EIC-ACC-BF       730      8      ES   \n",
      "15338          2495099.0  HORIZON-EIC-ACC-BF       730      1      DK   \n",
      "15339          2402750.0  HORIZON-EIC-ACC-BF       730      4      EE   \n",
      "15340          1947888.0  HORIZON-EIC-ACC-BF      1095      2      FR   \n",
      "\n",
      "      activityType  contributors  proportion_cost  \n",
      "0              REC             1         1.000000  \n",
      "1              HES             3         1.000000  \n",
      "2              HES             1         1.000000  \n",
      "3              REC             1         1.000000  \n",
      "4              HES             1         1.000000  \n",
      "...            ...           ...              ...  \n",
      "15336          PRC             1         0.700000  \n",
      "15337          PRC             1         0.699999  \n",
      "15338          PRC             2         0.700000  \n",
      "15339          PRC             1         0.700000  \n",
      "15340          PRC             1         0.700000  \n",
      "\n",
      "[15339 rows x 14 columns]\n",
      "agricultural sciences          1799\n",
      "engineering and technology     1799\n",
      "humanities                     1799\n",
      "medical and health sciences    1799\n",
      "natural sciences               1799\n",
      "social sciences                1799\n",
      "ecMaxContribution                 0\n",
      "fundingScheme                     0\n",
      "duration                          0\n",
      "month                             0\n",
      "country                           0\n",
      "activityType                      0\n",
      "contributors                      0\n",
      "proportion_cost                6563\n",
      "dtype: int64\n"
     ]
    }
   ],
   "source": [
    "Dataset = Dataset.dropna(subset=['activityType'])\n",
    "Dataset = Dataset.dropna(subset=['fundingScheme'])\n",
    "Dataset.drop(columns = ['mask', 'logCost', 'startDate', 'endDate', 'totalCost', 'Unnamed: 0', 'projectID', 'city','role'], inplace=True)\n",
    "print(Dataset)\n",
    "print(Dataset.isna().sum())"
   ]
  },
  {
   "cell_type": "markdown",
   "id": "bf735361-e538-427f-9f1d-67f15e95cf94",
   "metadata": {},
   "source": [
    "split in training and test set."
   ]
  },
  {
   "cell_type": "code",
   "execution_count": 161,
   "id": "caebfb23-4ebe-4d8a-ad63-31016e78ae55",
   "metadata": {},
   "outputs": [],
   "source": [
    "x = Dataset.drop('ecMaxContribution', axis=1)\n",
    "y = Dataset['ecMaxContribution']\n",
    "x_train, x_test, y_train, y_test = train_test_split(x, y, test_size=0.2, random_state=42)"
   ]
  },
  {
   "cell_type": "markdown",
   "id": "350dae4e-66ed-445f-a75b-8bbfbf7a895b",
   "metadata": {},
   "source": [
    "New column 'split' that indicates if observation was a train or test"
   ]
  },
  {
   "cell_type": "code",
   "execution_count": 164,
   "id": "837947f5-cd21-44ef-b8e9-1d353ccc8cfb",
   "metadata": {},
   "outputs": [],
   "source": [
    "Dataset['split'] = 'test'\n",
    "Dataset.loc[x_train.index, 'split'] = 'train'"
   ]
  },
  {
   "cell_type": "code",
   "execution_count": 142,
   "id": "c94f8642-541f-4d0d-aed5-027652fa5245",
   "metadata": {},
   "outputs": [],
   "source": [
    "Dataset.to_csv('Dataset_for_model.csv', index=False)"
   ]
  },
  {
   "cell_type": "code",
   "execution_count": null,
   "id": "f8bb2241-ad69-4593-b4f4-b6613699624e",
   "metadata": {},
   "outputs": [],
   "source": []
  }
 ],
 "metadata": {
  "kernelspec": {
   "display_name": "Python 3 (ipykernel)",
   "language": "python",
   "name": "python3"
  },
  "language_info": {
   "codemirror_mode": {
    "name": "ipython",
    "version": 3
   },
   "file_extension": ".py",
   "mimetype": "text/x-python",
   "name": "python",
   "nbconvert_exporter": "python",
   "pygments_lexer": "ipython3",
   "version": "3.12.7"
  }
 },
 "nbformat": 4,
 "nbformat_minor": 5
}
